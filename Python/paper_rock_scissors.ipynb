import random

Choice_3 = ["paper","rock","scissors"]

def Game_paper_rock_scissors() :
    win = 0
    lose = 0
    drew = 0
    print( """      Welcome to the Game of Hell. If you win, you can leave; 
        however, if you lose, you'll meet your demise. 
        The rules are quite simple, but victory is not easily achieved. 
        Here's how it works
        1.You choose someone to play Rock, Paper, Scissors
        2.Paper beats Rock, Paper loses to Scissors.
          Rock defeats Scissors, Rock succumbs to Paper.
          Scissors triumph over Paper, Scissors fall to Rock
        3.q or quit can leave 
        Alright, you know the rules! Let's begin our game.""")
    while True:
        you  = input("What you chose: ")
        you  = you.lower()
        random_bot = random.choice(Choice_3)
        if you == "paper" or you == "rock" or you == "scissors" :
            if you == random_bot :
                print("nice you select",you ,"and my select",random_bot )
                print("I'm sorry you drew")
                drew += 1
            elif (you == "paper" and random_bot == "rock") or \
                (you == "rock" and random_bot == "scissors") or\
                (you == "scissors" and random_bot == "paper"):
                print("nice you select",you ,"and my select",random_bot )
                print("you win")
                win += 1
            elif (you == "paper" and random_bot == "scissors")or\
                (you == "rock" and random_bot == "paper")or\
                (you == "scissors" and random_bot == "rock")  :
                print("nice you select",you,"and my select",random_bot )
                print("you lose")
                lose += 1
        elif you == "q" or you == "quit" :
            print("you win : ", win )
            print("you lose : ",lose ) 
            print("you drew : ",drew ) 
            break
        else:
            print("Please enter a valid choice (rock, paper, scissors, q/quit).")

        
