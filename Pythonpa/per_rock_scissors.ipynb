{
  "nbformat": 4,
  "nbformat_minor": 0,
  "metadata": {
    "colab": {
      "provenance": [],
      "authorship_tag": "ABX9TyMQPIuttuHDaTGUs5g7f0jJ",
      "include_colab_link": true
    },
    "kernelspec": {
      "name": "python3",
      "display_name": "Python 3"
    },
    "language_info": {
      "name": "python"
    }
  },
  "cells": [
    {
      "cell_type": "markdown",
      "metadata": {
        "id": "view-in-github",
        "colab_type": "text"
      },
      "source": [
        "<a href=\"https://colab.research.google.com/github/songwutkhongrung/Project/blob/main/Pythonpa/per_rock_scissors.ipynb\" target=\"_parent\"><img src=\"https://colab.research.google.com/assets/colab-badge.svg\" alt=\"Open In Colab\"/></a>"
      ]
    },
    {
      "cell_type": "code",
      "execution_count": 1,
      "metadata": {
        "id": "T_sNOtiBRjTu"
      },
      "outputs": [],
      "source": [
        "import random"
      ]
    },
    {
      "cell_type": "code",
      "source": [
        "Choice_3 = [\"paper\",\"rock\",\"scissors\"]"
      ],
      "metadata": {
        "id": "X7Cz3JLHRp07"
      },
      "execution_count": 3,
      "outputs": []
    },
    {
      "cell_type": "code",
      "source": [
        "def Game_paper_rock_scissors() :\n",
        "    win = 0\n",
        "    lose = 0\n",
        "    drew = 0\n",
        "    print( \"\"\"      Welcome to the Game of Hell. If you win, you can leave;\n",
        "        however, if you lose, you'll meet your demise.\n",
        "        The rules are quite simple, but victory is not easily achieved.\n",
        "        Here's how it works\n",
        "        1.You choose someone to play Rock, Paper, Scissors\n",
        "        2.Paper beats Rock, Paper loses to Scissors.\n",
        "          Rock defeats Scissors, Rock succumbs to Paper.\n",
        "          Scissors triumph over Paper, Scissors fall to Rock\n",
        "        3.q or quit can leave\n",
        "        Alright, you know the rules! Let's begin our game.\"\"\")\n",
        "    while True:\n",
        "        you  = input(\"What you chose: \")\n",
        "        you  = you.lower()\n",
        "        random_bot = random.choice(Choice_3)\n",
        "        if you == \"paper\" or you == \"rock\" or you == \"scissors\" :\n",
        "            if you == random_bot :\n",
        "                print(\"nice you select\",you ,\"and my select\",random_bot )\n",
        "                print(\"I'm sorry you drew\")\n",
        "                drew += 1\n",
        "            elif (you == \"paper\" and random_bot == \"rock\") or \\\n",
        "                (you == \"rock\" and random_bot == \"scissors\") or\\\n",
        "                (you == \"scissors\" and random_bot == \"paper\"):\n",
        "                print(\"nice you select\",you ,\"and my select\",random_bot )\n",
        "                print(\"you win\")\n",
        "                win += 1\n",
        "            elif (you == \"paper\" and random_bot == \"scissors\")or\\\n",
        "                (you == \"rock\" and random_bot == \"paper\")or\\\n",
        "                (you == \"scissors\" and random_bot == \"rock\")  :\n",
        "                print(\"nice you select\",you,\"and my select\",random_bot )\n",
        "                print(\"you lose\")\n",
        "                lose += 1\n",
        "        elif you == \"q\" or you == \"quit\" :\n",
        "            print(\"you win : \", win )\n",
        "            print(\"you lose : \",lose )\n",
        "            print(\"you drew : \",drew )\n",
        "            break\n",
        "        else:\n",
        "            print(\"Please enter a valid choice (rock, paper, scissors, q/quit).\")\n",
        "\n",
        ""
      ],
      "metadata": {
        "id": "E1nV94s-Rrij"
      },
      "execution_count": 4,
      "outputs": []
    },
    {
      "cell_type": "code",
      "source": [
        "Game_paper_rock_scissors()"
      ],
      "metadata": {
        "colab": {
          "base_uri": "https://localhost:8080/"
        },
        "id": "i4G77QoMRtnM",
        "outputId": "8cf83076-3330-405e-b652-96895ac634e2"
      },
      "execution_count": 5,
      "outputs": [
        {
          "output_type": "stream",
          "name": "stdout",
          "text": [
            "      Welcome to the Game of Hell. If you win, you can leave; \n",
            "        however, if you lose, you'll meet your demise. \n",
            "        The rules are quite simple, but victory is not easily achieved. \n",
            "        Here's how it works\n",
            "        1.You choose someone to play Rock, Paper, Scissors\n",
            "        2.Paper beats Rock, Paper loses to Scissors.\n",
            "          Rock defeats Scissors, Rock succumbs to Paper.\n",
            "          Scissors triumph over Paper, Scissors fall to Rock\n",
            "        3.q or quit can leave \n",
            "        Alright, you know the rules! Let's begin our game.\n",
            "What you chose: rock\n",
            "nice you select rock and my select rock\n",
            "I'm sorry you drew\n",
            "What you chose: rock\n",
            "nice you select rock and my select scissors\n",
            "you win\n",
            "What you chose: rock\n",
            "nice you select rock and my select scissors\n",
            "you win\n",
            "What you chose: q\n",
            "you win :  2\n",
            "you lose :  0\n",
            "you drew :  1\n"
          ]
        }
      ]
    }
  ]
}